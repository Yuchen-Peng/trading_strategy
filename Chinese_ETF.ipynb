{
 "cells": [
  {
   "cell_type": "code",
   "execution_count": 52,
   "id": "1a40c250-2db0-4635-8b99-8ddf558a9fc6",
   "metadata": {},
   "outputs": [],
   "source": [
    "import pandas as pd\n",
    "import numpy as np\n",
    "import requests\n",
    "from datetime import datetime, timedelta\n",
    "import matplotlib.pyplot as plt\n",
    "import seaborn as sns\n",
    "sns.set(style='darkgrid')\n",
    "from sklearn.metrics import r2_score\n",
    "from sklearn.cluster import KMeans\n",
    "import statsmodels.api as sm\n",
    "from colorama import Fore, Style\n",
    "from scipy.optimize import fsolve, curve_fit\n",
    "import yfinance as yf\n",
    "import akshare as ak"
   ]
  },
  {
   "cell_type": "code",
   "execution_count": 53,
   "id": "c5b495e2-b35b-4e89-b53f-5ffa4a254d08",
   "metadata": {},
   "outputs": [
    {
     "data": {
      "text/html": [
       "<div>\n",
       "<style scoped>\n",
       "    .dataframe tbody tr th:only-of-type {\n",
       "        vertical-align: middle;\n",
       "    }\n",
       "\n",
       "    .dataframe tbody tr th {\n",
       "        vertical-align: top;\n",
       "    }\n",
       "\n",
       "    .dataframe thead th {\n",
       "        text-align: right;\n",
       "    }\n",
       "</style>\n",
       "<table border=\"1\" class=\"dataframe\">\n",
       "  <thead>\n",
       "    <tr style=\"text-align: right;\">\n",
       "      <th></th>\n",
       "      <th>date</th>\n",
       "      <th>open</th>\n",
       "      <th>high</th>\n",
       "      <th>low</th>\n",
       "      <th>close</th>\n",
       "      <th>volume</th>\n",
       "    </tr>\n",
       "  </thead>\n",
       "  <tbody>\n",
       "    <tr>\n",
       "      <th>933</th>\n",
       "      <td>2025-03-31</td>\n",
       "      <td>0.750</td>\n",
       "      <td>0.752</td>\n",
       "      <td>0.734</td>\n",
       "      <td>0.741</td>\n",
       "      <td>7351263171</td>\n",
       "    </tr>\n",
       "    <tr>\n",
       "      <th>934</th>\n",
       "      <td>2025-04-01</td>\n",
       "      <td>0.748</td>\n",
       "      <td>0.758</td>\n",
       "      <td>0.744</td>\n",
       "      <td>0.749</td>\n",
       "      <td>8068711000</td>\n",
       "    </tr>\n",
       "    <tr>\n",
       "      <th>935</th>\n",
       "      <td>2025-04-02</td>\n",
       "      <td>0.744</td>\n",
       "      <td>0.758</td>\n",
       "      <td>0.739</td>\n",
       "      <td>0.748</td>\n",
       "      <td>7144843500</td>\n",
       "    </tr>\n",
       "    <tr>\n",
       "      <th>936</th>\n",
       "      <td>2025-04-03</td>\n",
       "      <td>0.733</td>\n",
       "      <td>0.744</td>\n",
       "      <td>0.727</td>\n",
       "      <td>0.733</td>\n",
       "      <td>8748133300</td>\n",
       "    </tr>\n",
       "    <tr>\n",
       "      <th>937</th>\n",
       "      <td>2025-04-07</td>\n",
       "      <td>0.675</td>\n",
       "      <td>0.680</td>\n",
       "      <td>0.660</td>\n",
       "      <td>0.660</td>\n",
       "      <td>7324210938</td>\n",
       "    </tr>\n",
       "  </tbody>\n",
       "</table>\n",
       "</div>"
      ],
      "text/plain": [
       "           date   open   high    low  close      volume\n",
       "933  2025-03-31  0.750  0.752  0.734  0.741  7351263171\n",
       "934  2025-04-01  0.748  0.758  0.744  0.749  8068711000\n",
       "935  2025-04-02  0.744  0.758  0.739  0.748  7144843500\n",
       "936  2025-04-03  0.733  0.744  0.727  0.733  8748133300\n",
       "937  2025-04-07  0.675  0.680  0.660  0.660  7324210938"
      ]
     },
     "execution_count": 53,
     "metadata": {},
     "output_type": "execute_result"
    }
   ],
   "source": [
    "etf_code = \"sh513180\"  # ETF代码\n",
    "start_date = \"20220101\"  # 开始日期\n",
    "end_date = \"20221231\"  # 结束日期\n",
    "\n",
    "# 调用 AKShare 的 fund_etf_hist_sina 接口获取数据\n",
    "etf_hist = ak.fund_etf_hist_sina(symbol=etf_code)\n",
    "\n",
    "etf_hist.tail()"
   ]
  },
  {
   "cell_type": "code",
   "execution_count": 54,
   "id": "a2e13da0-39b3-4282-9116-82e1cc84100f",
   "metadata": {},
   "outputs": [
    {
     "name": "stderr",
     "output_type": "stream",
     "text": [
      "                                                                                                                                                \r"
     ]
    }
   ],
   "source": [
    "a_spot = ak.stock_zh_a_spot()\n",
    "\n",
    "# 筛选出恒生科技指数ETF（sh513180）的数据\n",
    "etf_data = a_spot[a_spot[\"代码\"] == \"513180\"]"
   ]
  },
  {
   "cell_type": "code",
   "execution_count": null,
   "id": "f2afacd4-000f-4914-9a62-882387ca7ea3",
   "metadata": {},
   "outputs": [],
   "source": []
  }
 ],
 "metadata": {
  "kernelspec": {
   "display_name": "Python 3 (ipykernel)",
   "language": "python",
   "name": "python3"
  },
  "language_info": {
   "codemirror_mode": {
    "name": "ipython",
    "version": 3
   },
   "file_extension": ".py",
   "mimetype": "text/x-python",
   "name": "python",
   "nbconvert_exporter": "python",
   "pygments_lexer": "ipython3",
   "version": "3.12.4"
  }
 },
 "nbformat": 4,
 "nbformat_minor": 5
}
