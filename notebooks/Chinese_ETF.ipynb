{
 "cells": [
  {
   "cell_type": "code",
   "execution_count": 1,
   "id": "376e91ad-2bf4-4e9b-b22b-0cf24ece133a",
   "metadata": {},
   "outputs": [],
   "source": [
    "import pandas as pd\n",
    "import numpy as np\n",
    "import requests\n",
    "from datetime import datetime, timedelta\n",
    "import matplotlib.pyplot as plt\n",
    "import seaborn as sns\n",
    "sns.set(style='darkgrid')\n",
    "import akshare as ak\n",
    "\n",
    "from sklearn.metrics import r2_score\n",
    "import statsmodels.api as sm\n",
    "from colorama import Fore, Style"
   ]
  },
  {
   "cell_type": "code",
   "execution_count": 6,
   "id": "2491653b-8416-408b-bcfb-2c4a4782ff4f",
   "metadata": {},
   "outputs": [
    {
     "name": "stderr",
     "output_type": "stream",
     "text": [
      "/opt/anaconda3/envs/ts_env/lib/python3.12/site-packages/akshare/futures/futures_roll_yield.py:38: UserWarning: 20180618非交易日\n",
      "  warnings.warn(\"%s非交易日\" % date.strftime(\"%Y%m%d\"))\n",
      "/opt/anaconda3/envs/ts_env/lib/python3.12/site-packages/akshare/futures/futures_roll_yield.py:38: UserWarning: 20180623非交易日\n",
      "  warnings.warn(\"%s非交易日\" % date.strftime(\"%Y%m%d\"))\n",
      "/opt/anaconda3/envs/ts_env/lib/python3.12/site-packages/akshare/futures/futures_roll_yield.py:38: UserWarning: 20180624非交易日\n",
      "  warnings.warn(\"%s非交易日\" % date.strftime(\"%Y%m%d\"))\n",
      "/opt/anaconda3/envs/ts_env/lib/python3.12/site-packages/akshare/futures/futures_roll_yield.py:38: UserWarning: 20180630非交易日\n",
      "  warnings.warn(\"%s非交易日\" % date.strftime(\"%Y%m%d\"))\n",
      "/opt/anaconda3/envs/ts_env/lib/python3.12/site-packages/akshare/futures/futures_roll_yield.py:38: UserWarning: 20180701非交易日\n",
      "  warnings.warn(\"%s非交易日\" % date.strftime(\"%Y%m%d\"))\n",
      "/opt/anaconda3/envs/ts_env/lib/python3.12/site-packages/akshare/futures/futures_roll_yield.py:38: UserWarning: 20180707非交易日\n",
      "  warnings.warn(\"%s非交易日\" % date.strftime(\"%Y%m%d\"))\n",
      "/opt/anaconda3/envs/ts_env/lib/python3.12/site-packages/akshare/futures/futures_roll_yield.py:38: UserWarning: 20180708非交易日\n",
      "  warnings.warn(\"%s非交易日\" % date.strftime(\"%Y%m%d\"))\n",
      "/opt/anaconda3/envs/ts_env/lib/python3.12/site-packages/akshare/futures/futures_roll_yield.py:38: UserWarning: 20180714非交易日\n",
      "  warnings.warn(\"%s非交易日\" % date.strftime(\"%Y%m%d\"))\n",
      "/opt/anaconda3/envs/ts_env/lib/python3.12/site-packages/akshare/futures/futures_roll_yield.py:38: UserWarning: 20180715非交易日\n",
      "  warnings.warn(\"%s非交易日\" % date.strftime(\"%Y%m%d\"))\n"
     ]
    },
    {
     "name": "stdout",
     "output_type": "stream",
     "text": [
      "            roll_yield near_by deferred\n",
      "2018-06-19    0.191289  RB1810   RB1901\n",
      "2018-06-20    0.192123  RB1810   RB1901\n",
      "2018-06-21    0.183304  RB1810   RB1901\n",
      "2018-06-22    0.190642  RB1810   RB1901\n",
      "2018-06-25    0.194838  RB1810   RB1901\n",
      "2018-06-26    0.204314  RB1810   RB1901\n",
      "2018-06-27    0.213667  RB1810   RB1901\n",
      "2018-06-28    0.211701  RB1810   RB1901\n",
      "2018-06-29    0.205892  RB1810   RB1901\n",
      "2018-07-02    0.224809  RB1810   RB1901\n",
      "2018-07-03    0.229198  RB1810   RB1901\n",
      "2018-07-04    0.222853  RB1810   RB1901\n",
      "2018-07-05    0.247187  RB1810   RB1901\n",
      "2018-07-06    0.261259  RB1810   RB1901\n",
      "2018-07-09    0.253283  RB1810   RB1901\n",
      "2018-07-10    0.225832  RB1810   RB1901\n",
      "2018-07-11    0.210659  RB1810   RB1901\n",
      "2018-07-12    0.212805  RB1810   RB1901\n",
      "2018-07-13    0.170282  RB1810   RB1901\n",
      "2018-07-16    0.218066  RB1810   RB1901\n",
      "2018-07-17    0.229768  RB1810   RB1901\n",
      "2018-07-18    0.225529  RB1810   RB1901\n"
     ]
    }
   ],
   "source": [
    "get_roll_yield_bar_df = ak.get_roll_yield_bar(type_method=\"date\", var=\"RB\", start_day=\"20180618\", end_day=\"20180718\")\n",
    "print(get_roll_yield_bar_df)"
   ]
  },
  {
   "cell_type": "code",
   "execution_count": null,
   "id": "8574c764-f781-45bf-9e89-267beccdd96f",
   "metadata": {},
   "outputs": [],
   "source": []
  }
 ],
 "metadata": {
  "kernelspec": {
   "display_name": "Python 3 (ipykernel)",
   "language": "python",
   "name": "python3"
  },
  "language_info": {
   "codemirror_mode": {
    "name": "ipython",
    "version": 3
   },
   "file_extension": ".py",
   "mimetype": "text/x-python",
   "name": "python",
   "nbconvert_exporter": "python",
   "pygments_lexer": "ipython3",
   "version": "3.12.4"
  }
 },
 "nbformat": 4,
 "nbformat_minor": 5
}
