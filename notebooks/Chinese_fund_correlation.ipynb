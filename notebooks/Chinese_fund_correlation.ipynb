{
 "cells": [
  {
   "cell_type": "code",
   "execution_count": 1,
   "id": "0b3b45b9-d51c-4c9d-a340-c784b9953d1e",
   "metadata": {},
   "outputs": [],
   "source": [
    "import pandas as pd\n",
    "import numpy as np\n",
    "import requests\n",
    "from datetime import datetime, timedelta\n",
    "import matplotlib.pyplot as plt\n",
    "import seaborn as sns\n",
    "sns.set(style='darkgrid')\n",
    "\n",
    "from sklearn.metrics import r2_score\n",
    "\n",
    "def get_fund_k_history(fund_code: str, pz: int = 1000) -> pd.DataFrame:\n",
    "    '''\n",
    "    根据基金代码和要获取的页码抓取基金净值信息\n",
    "\n",
    "    Parameters\n",
    "    ----------\n",
    "    fund_code : 6位基金代码\n",
    "    page : 页码 1 为最新页数据\n",
    "\n",
    "    Return\n",
    "    ------\n",
    "    DataFrame : 包含基金历史k线数据\n",
    "    '''\n",
    "    # 请求头\n",
    "    EastmoneyFundHeaders = {\n",
    "        'User-Agent': 'EMProjJijin/6.2.8 (iPhone; iOS 13.6; Scale/2.00)',\n",
    "        'GTOKEN': '98B423068C1F4DEF9842F82ADF08C5db',\n",
    "        'clientInfo': 'ttjj-iPhone10,1-iOS-iOS13.6',\n",
    "        'Content-Type': 'application/x-www-form-urlencoded',\n",
    "        'Host': 'fundmobapi.eastmoney.com',\n",
    "        'Referer': 'https://mpservice.com/516939c37bdb4ba2b1138c50cf69a2e1/release/pages/FundHistoryNetWorth',\n",
    "    }\n",
    "    # 请求参数\n",
    "    data = {\n",
    "        'FCODE': f'{fund_code}',\n",
    "        'appType': 'ttjj',\n",
    "        'cToken': '1',\n",
    "        'deviceid': '1',\n",
    "        'pageIndex': '1',\n",
    "        'pageSize': f'{pz}',\n",
    "        'plat': 'Iphone',\n",
    "        'product': 'EFund',\n",
    "        'serverVersion': '6.2.8',\n",
    "        'version': '6.2.8'\n",
    "    }\n",
    "    url = 'https://fundmobapi.eastmoney.com/FundMNewApi/FundMNHisNetList'\n",
    "    json_response = requests.get(\n",
    "        url, headers=EastmoneyFundHeaders, data=data).json()\n",
    "    rows = []\n",
    "    columns = ['date', 'NAV', 'NAV-Cum', 'change']\n",
    "    if json_response is None:\n",
    "        return pd.DataFrame(rows, columns=columns)\n",
    "    datas = json_response['Datas']\n",
    "    if len(datas) == 0:\n",
    "        return pd.DataFrame(rows, columns=columns)\n",
    "    rows = []\n",
    "    for stock in datas:\n",
    "        date = stock['FSRQ']\n",
    "        rows.append({\n",
    "            'date': date,\n",
    "            'NAV': stock['DWJZ'],\n",
    "            'NAV-Cum': stock['LJJZ'],\n",
    "            'change': stock['JZZZL']\n",
    "        })\n",
    "\n",
    "    df = pd.DataFrame(rows)\n",
    "    df['NAV'] = pd.to_numeric(df['NAV'], errors='coerce')\n",
    "\n",
    "    df['NAV-Cum'] = pd.to_numeric(df['NAV-Cum'], errors='coerce')\n",
    "\n",
    "    df['date'] = pd.to_datetime(df['date'], errors='coerce')\n",
    "    return df\n"
   ]
  },
  {
   "cell_type": "code",
   "execution_count": 2,
   "id": "0ff0d3ae-0e97-4ef9-b442-ce338e8a90af",
   "metadata": {},
   "outputs": [
    {
     "data": {
      "text/html": [
       "<div>\n",
       "<style scoped>\n",
       "    .dataframe tbody tr th:only-of-type {\n",
       "        vertical-align: middle;\n",
       "    }\n",
       "\n",
       "    .dataframe tbody tr th {\n",
       "        vertical-align: top;\n",
       "    }\n",
       "\n",
       "    .dataframe thead th {\n",
       "        text-align: right;\n",
       "    }\n",
       "</style>\n",
       "<table border=\"1\" class=\"dataframe\">\n",
       "  <thead>\n",
       "    <tr style=\"text-align: right;\">\n",
       "      <th></th>\n",
       "      <th>date</th>\n",
       "      <th>NAV</th>\n",
       "      <th>NAV-Cum</th>\n",
       "      <th>change</th>\n",
       "      <th>code</th>\n",
       "      <th>name</th>\n",
       "    </tr>\n",
       "  </thead>\n",
       "  <tbody>\n",
       "    <tr>\n",
       "      <th>0</th>\n",
       "      <td>2024-06-11</td>\n",
       "      <td>1.3085</td>\n",
       "      <td>1.3085</td>\n",
       "      <td>-0.26</td>\n",
       "      <td>003318</td>\n",
       "      <td>500dibo - test</td>\n",
       "    </tr>\n",
       "    <tr>\n",
       "      <th>1</th>\n",
       "      <td>2024-06-07</td>\n",
       "      <td>1.3119</td>\n",
       "      <td>1.3119</td>\n",
       "      <td>0.31</td>\n",
       "      <td>003318</td>\n",
       "      <td>500dibo - test</td>\n",
       "    </tr>\n",
       "    <tr>\n",
       "      <th>2</th>\n",
       "      <td>2024-06-06</td>\n",
       "      <td>1.3079</td>\n",
       "      <td>1.3079</td>\n",
       "      <td>-0.98</td>\n",
       "      <td>003318</td>\n",
       "      <td>500dibo - test</td>\n",
       "    </tr>\n",
       "    <tr>\n",
       "      <th>3</th>\n",
       "      <td>2024-06-05</td>\n",
       "      <td>1.3208</td>\n",
       "      <td>1.3208</td>\n",
       "      <td>-0.98</td>\n",
       "      <td>003318</td>\n",
       "      <td>500dibo - test</td>\n",
       "    </tr>\n",
       "    <tr>\n",
       "      <th>4</th>\n",
       "      <td>2024-06-04</td>\n",
       "      <td>1.3339</td>\n",
       "      <td>1.3339</td>\n",
       "      <td>1.13</td>\n",
       "      <td>003318</td>\n",
       "      <td>500dibo - test</td>\n",
       "    </tr>\n",
       "  </tbody>\n",
       "</table>\n",
       "</div>"
      ],
      "text/plain": [
       "        date     NAV  NAV-Cum change    code            name\n",
       "0 2024-06-11  1.3085   1.3085  -0.26  003318  500dibo - test\n",
       "1 2024-06-07  1.3119   1.3119   0.31  003318  500dibo - test\n",
       "2 2024-06-06  1.3079   1.3079  -0.98  003318  500dibo - test\n",
       "3 2024-06-05  1.3208   1.3208  -0.98  003318  500dibo - test\n",
       "4 2024-06-04  1.3339   1.3339   1.13  003318  500dibo - test"
      ]
     },
     "execution_count": 2,
     "metadata": {},
     "output_type": "execute_result"
    }
   ],
   "source": [
    "fund_codes = {\n",
    "    '003318': \"500dibo - test\", \n",
    "    '019359': \"500dibo - hold\", \n",
    "    '014907': \"xiaofeidianzi - test\",\n",
    "    '018897': \"xiaofeidianzi - hold\",\n",
    "    '008021': \"rengongzhineng - test\",\n",
    "    '012734': \"rengongzhineng - hold\",\n",
    "    '012737': \"chuangxinyao - test\",\n",
    "    '019667': \"chuangxinyao - hold\",\n",
    "    '501012': \"zhongyao - test\",\n",
    "    '016892': \"zhongyao - hold\",\n",
    "    '005562': \"honglidibo - test\",\n",
    "    '020603': \"honglidibo - hold\",\n",
    "    # '004424': \"yule\",\n",
    "    # '004753': \"chuanmei\", -- not too correlated\n",
    "}\n",
    "\n",
    "# 遍历基金代码列表获取数据\n",
    "l_dfs = []\n",
    "for fund_code in fund_codes:\n",
    "    # 调用函数获取基金历史净值数据\n",
    "    fund_data = get_fund_k_history(fund_code)\n",
    "    fund_data['code'] = fund_code\n",
    "    fund_data['name'] = fund_codes[fund_code]\n",
    "    l_dfs.append(fund_data)\n",
    "\n",
    "\n",
    "df_fund = pd.concat(l_dfs)\n",
    "df_fund.head()"
   ]
  },
  {
   "cell_type": "code",
   "execution_count": 3,
   "id": "fae48d0d-282d-44c4-8a0c-6e5c20968658",
   "metadata": {},
   "outputs": [
    {
     "data": {
      "text/plain": [
       "name\n",
       "500dibo - hold          2023-09-11\n",
       "500dibo - test          2020-04-28\n",
       "chuangxinyao - hold     2023-11-14\n",
       "chuangxinyao - test     2021-07-07\n",
       "honglidibo - hold       2024-03-12\n",
       "honglidibo - test       2020-04-28\n",
       "rengongzhineng - hold   2022-03-01\n",
       "rengongzhineng - test   2020-04-28\n",
       "xiaofeidianzi - hold    2023-10-17\n",
       "xiaofeidianzi - test    2022-02-16\n",
       "zhongyao - hold         2022-11-11\n",
       "zhongyao - test         2020-04-28\n",
       "Name: date, dtype: datetime64[ns]"
      ]
     },
     "execution_count": 3,
     "metadata": {},
     "output_type": "execute_result"
    }
   ],
   "source": [
    "df_fund.groupby('name')['date'].min()"
   ]
  },
  {
   "cell_type": "code",
   "execution_count": 4,
   "id": "5e22213c-dfd9-4aaf-83ea-3bc8c6b1a74b",
   "metadata": {},
   "outputs": [
    {
     "name": "stdout",
     "output_type": "stream",
     "text": [
      "0.9999381579957551\n",
      "-0.005926900990587014 1.0036657820650818\n"
     ]
    },
    {
     "data": {
      "text/plain": [
       "0.9998763198159426"
      ]
     },
     "execution_count": 4,
     "metadata": {},
     "output_type": "execute_result"
    }
   ],
   "source": [
    "s1 = df_fund[(df_fund['name']=='500dibo - test') & (df_fund['date']>='2023-09-11')]['NAV']\n",
    "s2 = df_fund[(df_fund['name']=='500dibo - hold') & (df_fund['date']>='2023-09-11')]['NAV']\n",
    "X_b = np.c_[np.ones((len(s1), 1)), s1]  # Add a bias term (intercept) to feature matrix\n",
    "theta_best = np.linalg.inv(X_b.T.dot(X_b)).dot(X_b.T).dot(s2)\n",
    "\n",
    "intercept, slope = theta_best[0], theta_best[1]\n",
    "print(s1.corr(s2))\n",
    "print(intercept, slope)\n",
    "r2_score(s2, intercept+slope*s1)"
   ]
  },
  {
   "cell_type": "code",
   "execution_count": 5,
   "id": "3c9d4c81-bfcb-4d14-9977-9acab4a666b0",
   "metadata": {},
   "outputs": [
    {
     "name": "stdout",
     "output_type": "stream",
     "text": [
      "0.9998462483998615\n",
      "0.027507963216653497 1.5760933272803257\n"
     ]
    },
    {
     "data": {
      "text/plain": [
       "0.9996925204392767"
      ]
     },
     "execution_count": 5,
     "metadata": {},
     "output_type": "execute_result"
    }
   ],
   "source": [
    "s1 = df_fund[(df_fund['name']=='chuangxinyao - test') & (df_fund['date']>='2023-11-24')]['NAV']\n",
    "s2 = df_fund[(df_fund['name']=='chuangxinyao - hold') & (df_fund['date']>='2023-11-24')]['NAV']\n",
    "X_b = np.c_[np.ones((len(s1), 1)), s1]  # Add a bias term (intercept) to feature matrix\n",
    "theta_best = np.linalg.inv(X_b.T.dot(X_b)).dot(X_b.T).dot(s2)\n",
    "\n",
    "intercept, slope = theta_best[0], theta_best[1]\n",
    "print(s1.corr(s2))\n",
    "\n",
    "print(intercept, slope)\n",
    "r2_score(s2, intercept+slope*s1)"
   ]
  },
  {
   "cell_type": "code",
   "execution_count": 6,
   "id": "6919c738-b02a-4ee2-ba0d-8ce8711a8ee4",
   "metadata": {},
   "outputs": [
    {
     "name": "stdout",
     "output_type": "stream",
     "text": [
      "0.9914552014155753\n",
      "0.03740937676327888 1.1897930303098323\n"
     ]
    },
    {
     "data": {
      "text/plain": [
       "0.9829834164139989"
      ]
     },
     "execution_count": 6,
     "metadata": {},
     "output_type": "execute_result"
    }
   ],
   "source": [
    "s1 = df_fund[(df_fund['name']=='rengongzhineng - test') & (df_fund['date']>='2022-03-11')]['NAV']\n",
    "s2 = df_fund[(df_fund['name']=='rengongzhineng - hold') & (df_fund['date']>='2022-03-11')]['NAV']\n",
    "X_b = np.c_[np.ones((len(s1), 1)), s1]  # Add a bias term (intercept) to feature matrix\n",
    "theta_best = np.linalg.inv(X_b.T.dot(X_b)).dot(X_b.T).dot(s2)\n",
    "\n",
    "intercept, slope = theta_best[0], theta_best[1]\n",
    "print(s1.corr(s2))\n",
    "\n",
    "print(intercept, slope)\n",
    "r2_score(s2, intercept+slope*s1)"
   ]
  },
  {
   "cell_type": "code",
   "execution_count": 7,
   "id": "ee089f57-c51a-46ba-8bb7-d918a163d21a",
   "metadata": {},
   "outputs": [
    {
     "name": "stdout",
     "output_type": "stream",
     "text": [
      "0.998437997084454\n",
      "-0.04641479049277072 1.4355870623733997\n"
     ]
    },
    {
     "data": {
      "text/plain": [
       "0.9968784340220155"
      ]
     },
     "execution_count": 7,
     "metadata": {},
     "output_type": "execute_result"
    }
   ],
   "source": [
    "s1 = df_fund[(df_fund['name']=='xiaofeidianzi - test') & (df_fund['date']>='2023-10-25')]['NAV']\n",
    "s2 = df_fund[(df_fund['name']=='xiaofeidianzi - hold') & (df_fund['date']>='2023-10-25')]['NAV']\n",
    "X_b = np.c_[np.ones((len(s1), 1)), s1]  # Add a bias term (intercept) to feature matrix\n",
    "theta_best = np.linalg.inv(X_b.T.dot(X_b)).dot(X_b.T).dot(s2)\n",
    "\n",
    "intercept, slope = theta_best[0], theta_best[1]\n",
    "print(s1.corr(s2))\n",
    "\n",
    "print(intercept, slope)\n",
    "r2_score(s2, intercept+slope*s1)"
   ]
  },
  {
   "cell_type": "code",
   "execution_count": 8,
   "id": "0ad87f1a-e84e-4f71-9e47-5ed1c6715ba2",
   "metadata": {},
   "outputs": [
    {
     "data": {
      "text/plain": [
       "[Timestamp('2022-11-28 00:00:00'),\n",
       " Timestamp('2022-11-24 00:00:00'),\n",
       " Timestamp('2022-11-23 00:00:00'),\n",
       " Timestamp('2022-11-22 00:00:00'),\n",
       " Timestamp('2022-11-21 00:00:00'),\n",
       " Timestamp('2022-11-17 00:00:00'),\n",
       " Timestamp('2022-11-16 00:00:00'),\n",
       " Timestamp('2022-11-15 00:00:00'),\n",
       " Timestamp('2022-11-14 00:00:00')]"
      ]
     },
     "execution_count": 8,
     "metadata": {},
     "output_type": "execute_result"
    }
   ],
   "source": [
    "[e for e in df_fund[(df_fund['name']=='zhongyao - test') & (df_fund['date']>='2022-11-11')]['date'].unique()\n",
    " if e not in\n",
    " df_fund[(df_fund['name']=='zhongyao - hold') & (df_fund['date']>='2022-11-11')]['date'].unique()]\n"
   ]
  },
  {
   "cell_type": "code",
   "execution_count": 9,
   "id": "11704e9f-cbaf-45d1-9177-86ba6f0cd154",
   "metadata": {},
   "outputs": [
    {
     "name": "stdout",
     "output_type": "stream",
     "text": [
      "0.9983045894577323\n",
      "0.010330528805062862 0.7653122154726949\n"
     ]
    },
    {
     "data": {
      "text/plain": [
       "0.9966120533323716"
      ]
     },
     "execution_count": 9,
     "metadata": {},
     "output_type": "execute_result"
    }
   ],
   "source": [
    "s1 = df_fund[(df_fund['name']=='zhongyao - test') & (df_fund['date']>='2022-11-29')]['NAV']\n",
    "s2 = df_fund[(df_fund['name']=='zhongyao - hold') & (df_fund['date']>='2022-11-29')]['NAV']\n",
    "X_b = np.c_[np.ones((len(s1), 1)), s1]  # Add a bias term (intercept) to feature matrix\n",
    "theta_best = np.linalg.inv(X_b.T.dot(X_b)).dot(X_b.T).dot(s2)\n",
    "\n",
    "intercept, slope = theta_best[0], theta_best[1]\n",
    "print(s1.corr(s2))\n",
    "\n",
    "print(intercept, slope)\n",
    "r2_score(s2, intercept+slope*s1)"
   ]
  },
  {
   "cell_type": "code",
   "execution_count": 10,
   "id": "e4dd6c65-21c0-4776-bcf5-30009d01d5e8",
   "metadata": {},
   "outputs": [
    {
     "name": "stdout",
     "output_type": "stream",
     "text": [
      "0.9985692022393535\n",
      "-0.04479288707762219 0.5722012015379572\n"
     ]
    },
    {
     "data": {
      "text/plain": [
       "0.9971404516609397"
      ]
     },
     "execution_count": 10,
     "metadata": {},
     "output_type": "execute_result"
    }
   ],
   "source": [
    "s1 = df_fund[(df_fund['name']=='honglidibo - test') & (df_fund['date']>='2024-03-14')]['NAV']\n",
    "s2 = df_fund[(df_fund['name']=='honglidibo - hold') & (df_fund['date']>='2024-03-14')]['NAV']\n",
    "X_b = np.c_[np.ones((len(s1), 1)), s1]  # Add a bias term (intercept) to feature matrix\n",
    "theta_best = np.linalg.inv(X_b.T.dot(X_b)).dot(X_b.T).dot(s2)\n",
    "\n",
    "intercept, slope = theta_best[0], theta_best[1]\n",
    "print(s1.corr(s2))\n",
    "\n",
    "print(intercept, slope)\n",
    "r2_score(s2, intercept+slope*s1)"
   ]
  },
  {
   "cell_type": "code",
   "execution_count": null,
   "id": "4cd238be-274e-4916-96e8-2c8f13feaace",
   "metadata": {},
   "outputs": [],
   "source": []
  },
  {
   "cell_type": "code",
   "execution_count": null,
   "id": "1c0f4a6f-b5b4-45a4-859a-1aa208d9cf77",
   "metadata": {},
   "outputs": [],
   "source": []
  },
  {
   "cell_type": "markdown",
   "id": "5952fbe1-334d-4067-bb92-ced7e85ab3fa",
   "metadata": {},
   "source": [
    "##### "
   ]
  }
 ],
 "metadata": {
  "kernelspec": {
   "display_name": "Python 3 (ipykernel)",
   "language": "python",
   "name": "python3"
  },
  "language_info": {
   "codemirror_mode": {
    "name": "ipython",
    "version": 3
   },
   "file_extension": ".py",
   "mimetype": "text/x-python",
   "name": "python",
   "nbconvert_exporter": "python",
   "pygments_lexer": "ipython3",
   "version": "3.8.18"
  }
 },
 "nbformat": 4,
 "nbformat_minor": 5
}
